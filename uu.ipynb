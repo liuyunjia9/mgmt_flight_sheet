{
 "cells": [
  {
   "cell_type": "code",
   "execution_count": 54,
   "outputs": [
    {
     "data": {
      "text/plain": "'北京值班'"
     },
     "execution_count": 54,
     "metadata": {},
     "output_type": "execute_result"
    }
   ],
   "source": [
    "import re\n",
    "s = '成都-法兰克福,法兰克福-法兰克福,法兰克福-深圳,深圳-成都'\n",
    "s1 = '成都-长春,长春-成都'\n",
    "s2 ='成都-成都'\n",
    "s3 ='成都-北京,北京-北京,北京-丽江,丽江-北京,北京-北京,北京-成都'\n",
    "def flight_change(x):\n",
    "    if x=='成都-成都':\n",
    "        return '成都备份'\n",
    "    elif x=='天府-天府':\n",
    "        return  '天府备份'\n",
    "    else:\n",
    "        for i in x.split(\",\"):\n",
    "            i_list = i.split(\"-\")\n",
    "            if i_list[0] == i_list[1]:\n",
    "                return  i_list[1]+'值班'\n",
    "        temp = re.split(\"[,-]\",x)\n",
    "        return \"-\".join(sorted(set(temp),key=temp.index))\n",
    "\n",
    "flight_change(s3)"
   ],
   "metadata": {
    "collapsed": false,
    "pycharm": {
     "name": "#%%\n"
    }
   }
  },
  {
   "cell_type": "code",
   "execution_count": 7,
   "outputs": [],
   "source": [],
   "metadata": {
    "collapsed": false,
    "pycharm": {
     "name": "#%%\n"
    }
   }
  },
  {
   "cell_type": "code",
   "execution_count": null,
   "outputs": [],
   "source": [],
   "metadata": {
    "collapsed": false,
    "pycharm": {
     "name": "#%%\n"
    }
   }
  }
 ],
 "metadata": {
  "kernelspec": {
   "display_name": "Python 3",
   "language": "python",
   "name": "python3"
  },
  "language_info": {
   "codemirror_mode": {
    "name": "ipython",
    "version": 2
   },
   "file_extension": ".py",
   "mimetype": "text/x-python",
   "name": "python",
   "nbconvert_exporter": "python",
   "pygments_lexer": "ipython2",
   "version": "2.7.6"
  }
 },
 "nbformat": 4,
 "nbformat_minor": 0
}