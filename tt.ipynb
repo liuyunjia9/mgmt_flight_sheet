{
 "cells": [
  {
   "cell_type": "code",
   "execution_count": 1,
   "metadata": {
    "collapsed": true
   },
   "outputs": [],
   "source": [
    "import pandas as pd"
   ]
  },
  {
   "cell_type": "code",
   "execution_count": 2,
   "outputs": [],
   "source": [
    "name_list = ['杨溢','朱绯绯','樊雪','余捷','王翾','朱燕','乐冰清','陈超','于坤','邱爽','胡斅','曹田野','杨僖','管庆涛','代靖','唐梦','张丽娟','孙上然','陈婧','陈潇然','廖渡洋','刘运嘉']"
   ],
   "metadata": {
    "collapsed": false,
    "pycharm": {
     "name": "#%%\n"
    }
   }
  },
  {
   "cell_type": "code",
   "execution_count": 10,
   "outputs": [],
   "source": [
    "df = pd.read_excel('./test1.xlsx',dtype=str)\n",
    "df = df[df['姓名'].isin(name_list)]\n",
    "df = df.drop(df[df.任务=='RST'].index)\n",
    "df[['起始日期','截止日期']] = df[['起始日期','截止日期']].astype('datetime64[D]')\n",
    "df = df.groupby(['员工号','姓名','起始日期']).agg(截止日期=(\"截止日期\", \"max\"),始发站=('始发站', lambda x: \",\".join(x.unique())),到达站=('到达站', lambda x: \",\".join(x.unique())))\n",
    "df.reset_index(inplace=True)\n",
    "df['航线'] = df['始发站'].str.cat(df['到达站'],sep=',')\n",
    "def map_e(x):\n",
    "    y = ' '.join(set(x.split(sep=\",\")))\n",
    "    return  y\n",
    "df['航线']=df['航线'].map(map_e)\n",
    "del df['始发站']\n",
    "del df['到达站']\n",
    "df['天数'] = df['截止日期']-df['起始日期']\n",
    "df['天数'] = df['天数'].map(lambda x:x.days+1)"
   ],
   "metadata": {
    "collapsed": false,
    "pycharm": {
     "name": "#%%\n"
    }
   }
  },
  {
   "cell_type": "code",
   "execution_count": 11,
   "outputs": [
    {
     "data": {
      "text/plain": "            员工号  姓名       起始日期       截止日期           航线  天数\n0    0000030717  于坤 2019-06-04 2019-06-04      CTU PVG   1\n1    0000030717  于坤 2019-06-05 2019-06-05      CTU CGQ   1\n2    0000030717  于坤 2019-06-12 2019-06-12      CTU KHG   1\n3    0000030717  于坤 2019-06-19 2019-06-19  CTU DOY CGO   1\n4    0000030717  于坤 2019-06-22 2019-06-22      CTU HTN   1\n..          ...  ..        ...        ...          ...  ..\n175  0000052251  陈婧 2019-06-21 2019-06-22      PEK LJG   2\n176  0000052251  陈婧 2019-06-22 2019-06-22      PEK CTU   1\n177  0000052251  陈婧 2019-06-27 2019-06-27      SHE CTU   1\n178  0000052251  陈婧 2019-06-28 2019-06-28      KTM CTU   1\n179  0000052251  陈婧 2019-06-29 2019-06-29      CTU KRY   1\n\n[180 rows x 6 columns]",
      "text/html": "<div>\n<style scoped>\n    .dataframe tbody tr th:only-of-type {\n        vertical-align: middle;\n    }\n\n    .dataframe tbody tr th {\n        vertical-align: top;\n    }\n\n    .dataframe thead th {\n        text-align: right;\n    }\n</style>\n<table border=\"1\" class=\"dataframe\">\n  <thead>\n    <tr style=\"text-align: right;\">\n      <th></th>\n      <th>员工号</th>\n      <th>姓名</th>\n      <th>起始日期</th>\n      <th>截止日期</th>\n      <th>航线</th>\n      <th>天数</th>\n    </tr>\n  </thead>\n  <tbody>\n    <tr>\n      <th>0</th>\n      <td>0000030717</td>\n      <td>于坤</td>\n      <td>2019-06-04</td>\n      <td>2019-06-04</td>\n      <td>CTU PVG</td>\n      <td>1</td>\n    </tr>\n    <tr>\n      <th>1</th>\n      <td>0000030717</td>\n      <td>于坤</td>\n      <td>2019-06-05</td>\n      <td>2019-06-05</td>\n      <td>CTU CGQ</td>\n      <td>1</td>\n    </tr>\n    <tr>\n      <th>2</th>\n      <td>0000030717</td>\n      <td>于坤</td>\n      <td>2019-06-12</td>\n      <td>2019-06-12</td>\n      <td>CTU KHG</td>\n      <td>1</td>\n    </tr>\n    <tr>\n      <th>3</th>\n      <td>0000030717</td>\n      <td>于坤</td>\n      <td>2019-06-19</td>\n      <td>2019-06-19</td>\n      <td>CTU DOY CGO</td>\n      <td>1</td>\n    </tr>\n    <tr>\n      <th>4</th>\n      <td>0000030717</td>\n      <td>于坤</td>\n      <td>2019-06-22</td>\n      <td>2019-06-22</td>\n      <td>CTU HTN</td>\n      <td>1</td>\n    </tr>\n    <tr>\n      <th>...</th>\n      <td>...</td>\n      <td>...</td>\n      <td>...</td>\n      <td>...</td>\n      <td>...</td>\n      <td>...</td>\n    </tr>\n    <tr>\n      <th>175</th>\n      <td>0000052251</td>\n      <td>陈婧</td>\n      <td>2019-06-21</td>\n      <td>2019-06-22</td>\n      <td>PEK LJG</td>\n      <td>2</td>\n    </tr>\n    <tr>\n      <th>176</th>\n      <td>0000052251</td>\n      <td>陈婧</td>\n      <td>2019-06-22</td>\n      <td>2019-06-22</td>\n      <td>PEK CTU</td>\n      <td>1</td>\n    </tr>\n    <tr>\n      <th>177</th>\n      <td>0000052251</td>\n      <td>陈婧</td>\n      <td>2019-06-27</td>\n      <td>2019-06-27</td>\n      <td>SHE CTU</td>\n      <td>1</td>\n    </tr>\n    <tr>\n      <th>178</th>\n      <td>0000052251</td>\n      <td>陈婧</td>\n      <td>2019-06-28</td>\n      <td>2019-06-28</td>\n      <td>KTM CTU</td>\n      <td>1</td>\n    </tr>\n    <tr>\n      <th>179</th>\n      <td>0000052251</td>\n      <td>陈婧</td>\n      <td>2019-06-29</td>\n      <td>2019-06-29</td>\n      <td>CTU KRY</td>\n      <td>1</td>\n    </tr>\n  </tbody>\n</table>\n<p>180 rows × 6 columns</p>\n</div>"
     },
     "execution_count": 11,
     "metadata": {},
     "output_type": "execute_result"
    }
   ],
   "source": [
    "df"
   ],
   "metadata": {
    "collapsed": false,
    "pycharm": {
     "name": "#%%\n"
    }
   }
  }
 ],
 "metadata": {
  "kernelspec": {
   "display_name": "Python 3",
   "language": "python",
   "name": "python3"
  },
  "language_info": {
   "codemirror_mode": {
    "name": "ipython",
    "version": 2
   },
   "file_extension": ".py",
   "mimetype": "text/x-python",
   "name": "python",
   "nbconvert_exporter": "python",
   "pygments_lexer": "ipython2",
   "version": "2.7.6"
  }
 },
 "nbformat": 4,
 "nbformat_minor": 0
}