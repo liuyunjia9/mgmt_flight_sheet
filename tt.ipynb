{
 "cells": [
  {
   "cell_type": "code",
   "execution_count": 96,
   "metadata": {
    "collapsed": true
   },
   "outputs": [],
   "source": [
    "import pandas as pd\n",
    "import re"
   ]
  },
  {
   "cell_type": "code",
   "execution_count": 97,
   "metadata": {
    "collapsed": false,
    "pycharm": {
     "name": "#%%\n"
    }
   },
   "outputs": [],
   "source": [
    "name_dict = {'0000030919':'杨溢','0000031010':'朱绯绯','0000032157':'樊雪','0000031957':'余捷','0000030981':'王翾','0000030795':'朱燕','0000030796':'乐冰清','0000030770':'陈超','0000030717':'于坤','0000030783':'邱爽','0000031978':'胡斅','0000052267':'曹田野','0000031193':'杨僖','0000031273':'管庆涛','0000031932':'代靖','0000033488':'唐梦','0000032005':'张丽娟','0000033369':'孙上然','0000052251':'陈婧','0000031008':'陈潇然','0000031285':'廖渡洋','0000032418':'刘运嘉'}\n",
    "terminal = {'BCTU1':'双流备份','BCTU2':'双流备份','BCTUHO':'家备','AAN':'艾因','AAT':'阿勒泰','ABJ':'阿比让','ABS':'阿布新贝','ABV':'阿布贾','ACC':'阿克拉','ACX':'兴义','ADB':'伊兹密尔','ADD':'亚的斯亚','AEB':'百色','AER':'索契','AHJ':'阿坝红原','AKA':'安康','AKL':'奥克兰','AKU':'阿克苏','ALA':'阿拉木图','AMS':'阿姆斯','ANC':'安克雷奇','AOG':'鞍山','AOJ':'青森','AQG':'安庆','ARN':'斯德哥尔','ATH':'雅典','ATL':'亚特兰大','AUH':'阿布扎比','AVA':'安顺','AWK':'威克岛','AXF':'阿拉善左','AXT':'秋田','BAR':'琼海博鳌','BAV':'包头','BBK':'卡萨内','BCN':'巴塞罗那','BER':'柏林','BHX':'伯明翰','BHY':'北海','BKK':'曼谷','BLR':'班加罗尔','BNE':'布里斯班','BOM':'孟买','BPE':'北戴河','BPL':'博乐','BPX':'邦达','BRE':'不来梅','BRU':'布鲁塞尔','BSD':'保山','BTH':'巴淡岛','BUD':'布达佩斯','BUF':'布法罗','BWI':'华盛顿','BWN':'文莱','BZX':'巴中','CAI':'开罗','CAN':'广州','CBR':'堪培拉','CDG':'巴黎','CEI':'清涞','CGD':'常德','CGK':'雅加达','CGN':'波恩','CGO':'郑州','CGQ':'长春','CHG':'朝阳','CIF':'赤峰','CIH':'长治','CJJ':'清州','CJU':'济州','CKG':'重庆','CMB':'科伦坡','CNF':'贝洛奥里','CNI':'长海','CNX':'清迈','COK':'科钦','CPH':'哥本哈根','CQW':'仙女山','CSX':'长沙','CTS':'札幌','CTU':'成都','CWJ':'沧源','CXR':'芽庄','CZX':'常州','DA1':'大同怀仁','DAD':'岘港','DAT':'大同','DAX':'达州','DCY':'稻城','DDG':'丹东','DEL':'德里','DFW':'达拉斯','DIA':'多哈','DIG':'迪庆','DIR':'德雷达瓦','DLC':'大连','DLU':'大理','DMK':'曼谷(旧)','DNA':'嘉首纳','DNH':'敦煌','DOH':'多哈','DOY':'东营','DPS':'巴厘','DQA':'大庆','DRW':'达尔文','DSN':'鄂尔多斯','DTW':'底特律','DUB':'都柏林','DUS':'杜塞尔多','DXB':'迪拜','DYG':'张家界','EBD':'欧拜伊德','EJN':'额济纳旗','ENH':'恩施','ENY':'延安','ERL':'二连浩特','EWR':'纽瓦克','FCO':'罗马','FKS':'福岛','FNJ':'平壤','FOC':'福州','FRA':'法兰克福','FSZ':'静冈','FUD':'绥芬河','FUG':'阜阳','FUK':'福冈','FYJ':'抚远','FYN':'富蕴','GAJ':'山形','GHN':'广汉','GMP':'首尔金浦','GMQ':'果洛','GOJ':'下诺夫哥','GOQ':'格尔木','GRU':'圣保罗','GVA':'日内瓦','GWO':'格林伍德','GXH':'甘南','GYS':'广元','GYU':'固原','HAJ':'汉诺威','HAK':'海口','HAM':'汉堡','HAN':'河内','HAV':'哈瓦那','HCJ':'河池','HDG':'邯郸','HEK':'黑河','HEL':'赫','HET':'呼和浩特','HFE':'合肥','HGH':'杭州','HHA':'长沙','HHN':'哈恩','HHQ':'华欣','HIA':'淮安','HIJ':'广岛','HKD':'函馆','HKG':'香港','HKT':'普吉','HLD':'海拉尔','HLH':'乌兰浩特','HLP':'雅加达','HMI':'哈密','HNA':'花卷','HND':'东京羽田','HNL':'夏威夷','HNY':'衡阳','HRB':'哈尔滨','HRI':'马塔拉','HSG':'佐贺','HSN':'舟山','HTA':'赤塔','HTN':'和田','HTT':'海西','HUZ':'惠州','HXD':'海西','HYN':'台州','HZG':'汉中','HZH':'黎平','IAD':'华盛顿','IAH':'休斯顿','IBR':'茨城','ICN':'首尔仁川','INC':'银川','IQM':'且末','IQN':'庆阳','ISB':'伊斯兰堡','ISL':'伊斯','IST':'伊斯坦布','IZO':'出云','JDZ':'景德镇','JED':'吉达','JFK':'纽约','JGN':'嘉峪关','JGS':'井冈山','JHG':'西双版纳','JIQ':'黔江','JIU':'九江','JJN':'晋江','JMU':'佳木斯','JNB':'约翰内斯','JNG':'济宁','JNZ':'锦州','JSJ':'建三江','JUH':'池州','JUZ':'衢州','JXA':'鸡西','JZH':'九寨','KBV':'甲米','KCA':'库车','KCZ':'高知','KGT':'康定','KHG':'喀什','KHH':'高雄','KHI':'卡拉奇','KHN':'南昌','KIJ':'新泻','KIX':'大阪','KLO':'卡利博','KMG':'昆明','KMI':'宫崎','KMJ':'熊本','KMQ':'小松','KOJ':'鹿儿岛','KOV':'科科舍塔','KOW':'赣州','KRL':'库尔勒','KRY':'克拉玛依','KTM':'加德满都','KUL':'吉隆坡','KUN':'考纳斯','KWE':'贵阳','KWI':'科威特','KWJ':'光州','KWL':'桂林','KZN':'喀山','LAO':'拉瓦格','LAX':'洛杉矶','LCX':'连城','LDG':'罗定','LDS':'伊春','LED':'圣彼得堡','LFQ':'临汾','LGA':'纽约','LGW':'盖特威克','LHE':'拉合尔','LHK':'老河口','LHR':'希斯罗','LHW':'兰州','LJG':'丽江','LLF':'永州','LLV':'吕梁','LNJ':'临沧','LPF':'六盘水','LUM':'德宏','LUX':'卢森堡','LXA':'拉萨','LYA':'洛阳','LYG':'连云港','LYI':'临沂','LZH':'柳州','LZO':'泸州','LZY':'林芝','MAD':'马德里','MAN':'曼彻','MDG':'牡丹江','MDY':'中途岛','MED':'麦迪那','MEL':'墨尔本','MFM':'澳门','MIA':'迈阿密','MIG':'绵阳','MLE':'马累','MLZ':'马兰','MMJ':'松本','MNL':'马尼拉','MQX':'默克莱','MSQ':'明斯克','MUC':'慕尼黑','MXP':'米兰','MXZ':'梅县','MYJ':'松山','MYY':'米里','MZJ':'马拉纳','NAO':'南充','NAY':'南苑','NBS':'白山','NCE':'尼斯','NDG':'齐齐哈尔','NGB':'宁波','NGO':'名古屋','NGQ':'阿里','NGS':'长崎','NKG':'南京','NLH':'宁蒗','NNG':'南宁','NNN':'上海龙华','NNY':'南阳','NQZ':'努尔苏丹','NRT':'东京成田','NSA':'纳塔尔','NTG':'南通','NUE':'纽伦堡','NVI':'纳沃伊','NZH':'满洲里','NZL':'扎兰屯','OAK':'奥克兰','OHE':'漠河','OIT':'大分','OKA':'冲绳','OKJ':'冈山','OPO':'波尔图','OPR':'伊斯兰堡','ORD':'芝加哥','OSL':'奥斯陆','OSN':'乌山','OUA':'瓦加杜古','OVB':'新西伯利','PDX':'波特兰','PEK':'北京','PEN':'槟城','PHS':'彭世洛','PKX':'大兴','PNH':'金边','PTY':'巴拿马','PUS':'釜山','PVG':'浦东','PZI':'攀枝花','REP':'暹粒','RGN':'仰光','RHT':'阿拉善右','RIZ':'日照','RKZ':'日喀则','RLK':'巴彦淖尔','RMQ':'台中','SDF':'路易斯维','SDJ':'仙台','SEA':'西雅图','SFB':'奥兰多','SFO':'旧金山','SGN':'胡志明','SHA':'虹桥','SHE':'沈阳','SHF':'石河子','SHM':'南纪白浜','SHS':'沙市','SIN':'新加坡','SJC':'圣何塞','SJW':'石家庄','SOC':'索罗城','SPN':'塞班','SQD':'三清山','SQJ':'三明','SVO':'莫斯科','SVX':'叶卡捷林','SWA':'汕头','SYD':'悉尼','SYM':'思茅','SYO':'庄内','SYX':'三亚','SZX':'深圳','TAE':'大邱','TAK':'高松','TAO':'青岛','TAS':'塔什干','TCG':'塔城','TEN':'铜仁','TFU':'天府','TGO':'通辽','THR':'德黑兰','TIF':'塔伊夫','TKS':'德岛','TLL':'塔林','TLQ':'吐鲁番','TNA':'济南','TNH':'通化','TOY':'富山','TPE':'台北桃园','TSA':'台北松山','TSE':'努尔苏丹','TSN':'天津','TTJ':'鸟取','TVS':'唐山','TWC':'图木舒克','TXL':'柏林','TXN':'黄山','TYN':'太原','UBJ':'山口宇部','UBN':'乌兰巴托','UCB':'乌兰察布','UET':'奎达','UFA':'乌法','UKB':'神户','ULN':'乌兰巴托','URC':'乌鲁木齐','URT':'素叻他尼','USM':'苏眉岛','UYN':'榆林','VIE':'维也纳','VKO':'莫斯科','WAW':'华沙','WDS':'武当山','WEF':'潍坊','WEH':'威海','WGN':'邵阳','WJD':'汉口','WKJ':'稚内','WMT':'茅台','WNH':'文山','WNZ':'温州','WUA':'乌海','WUH':'武汉','WUS':'武夷山','WUT':'忻州','WUX':'无锡','WUZ':'梧州','WXN':'万县','XFN':'襄阳','XIC':'西昌','XIL':'锡林浩特','XIQ':'西安西关','XIY':'西安','XMN':'厦门','XNN':'西宁','XUZ':'徐州','XXA':'平朔','XXD':'珠海九州','XXE':'阳江','XXH':'遂宁','XXI':'长春二道河子','XXK':'新津','XXN':'敦化','XXT':'嫩江','XXY':'依兰','YBP':'宜宾','YCU':'运城','YIC':'宜春','YIH':'宜昌','YIN':'伊宁','YIW':'义乌','YKH':'营口','YNJ':'延吉','YNT':'烟台','YNZ':'盐城','YSQ':'松原','YTY':'扬州','YUL':'蒙特利尔','YUS':'玉树','YVR':'温哥华','YXT':'特勒斯','YYZ':'多伦多','ZAT':'昭通','ZAZ':'萨拉戈萨','ZGC':'兰州','ZHA':'湛江','ZRH':'苏黎世','ZUH':'珠海','ZYI':'遵义','BCTU':'双流备份','BTFU':'天府备份'}\n",
    "name_list = list(name_dict.values())"
   ]
  },
  {
   "cell_type": "code",
   "execution_count": 100,
   "metadata": {
    "collapsed": false,
    "pycharm": {
     "name": "#%%\n"
    }
   },
   "outputs": [],
   "source": [
    "df = pd.read_excel('./test2.xlsx',dtype=str)\n",
    "df = df[df['姓名'].isin(name_list)]\n",
    "df['辅助列1'] = df['始发站'] != df['到达站'].shift(1)\n",
    "df['辅助列2'] = df['任务']=='RST'\n",
    "df['辅助列3'] = (df[\"辅助列1\"]+df[\"辅助列2\"]).cumsum()\n",
    "df = df.drop(df[df.任务=='RST'].index)\n",
    "df[['起始日期','截止日期']] = df[['起始日期','截止日期']].astype('datetime64[D]')\n",
    "df['始发站'] = df['始发站'].map(lambda x:terminal.get(x,x))\n",
    "df['到达站'] = df['到达站'].map(lambda x:terminal.get(x,x))\n",
    "df['航线'] = df['始发站'].str.cat(df['到达站'],sep='-')\n",
    "df = df.groupby(['辅助列3',]).agg(员工号=('员工号',lambda x: ''.join(x.unique())),姓名=('姓名',lambda x: ''.join(x.unique())),起始日期=(\"起始日期\", \"min\"),截止日期=(\"截止日期\", \"max\"),航线=('航线', lambda x: \",\".join(x)))\n",
    "def flight_base(x):\n",
    "    if '天府' in x:\n",
    "        return '天府'\n",
    "    elif '成都' in x:\n",
    "        return '成都'\n",
    "    else:\n",
    "        return None\n",
    "df['基地'] = df['航线'].map(flight_base)\n",
    "df['天数'] = (df['截止日期']-df['起始日期']).map(lambda x:x.days)+1"
   ]
  },
  {
   "cell_type": "code",
   "execution_count": 101,
   "outputs": [
    {
     "data": {
      "text/plain": "             员工号  姓名       起始日期       截止日期                       航线  基地  天数  \\\n辅助列3                                                                          \n1     0000032157  樊雪 2022-01-28 2022-01-28            天府-库尔勒,库尔勒-天府  天府   1   \n2     0000032157  樊雪 2022-02-08 2022-02-08                    天府-天津  天府   1   \n3     0000032157  樊雪 2022-02-20 2022-02-20              成都-北京,北京-成都  成都   1   \n4     0000032157  樊雪 2022-03-03 2022-03-03  成都-拉萨,拉萨-大兴,大兴-北京,北京-成都  成都   1   \n5     0000032157  樊雪 2022-03-12 2022-03-12              成都-北京,北京-成都  成都   1   \n...          ...  ..        ...        ...                      ...  ..  ..   \n282   0000030981  王翾 2022-02-17 2022-02-17              成都-宁波,宁波-成都  成都   1   \n283   0000030981  王翾 2022-03-03 2022-03-03          成都-乌鲁木齐,乌鲁木齐-成都  成都   1   \n284   0000030981  王翾 2022-03-04 2022-03-04              成都-沈阳,沈阳-成都  成都   1   \n285   0000030981  王翾 2022-03-08 2022-03-08              成都-宁波,宁波-成都  成都   1   \n286   0000030981  王翾 2022-03-24 2022-03-24                    成都-成都  成都   1   \n\n              航线2  \n辅助列3               \n1          天府-库尔勒  \n2           天府-天津  \n3           成都-北京  \n4     成都-拉萨-大兴-北京  \n5           成都-北京  \n...           ...  \n282         成都-宁波  \n283       成都-乌鲁木齐  \n284         成都-沈阳  \n285         成都-宁波  \n286          成都备份  \n\n[230 rows x 8 columns]",
      "text/html": "<div>\n<style scoped>\n    .dataframe tbody tr th:only-of-type {\n        vertical-align: middle;\n    }\n\n    .dataframe tbody tr th {\n        vertical-align: top;\n    }\n\n    .dataframe thead th {\n        text-align: right;\n    }\n</style>\n<table border=\"1\" class=\"dataframe\">\n  <thead>\n    <tr style=\"text-align: right;\">\n      <th></th>\n      <th>员工号</th>\n      <th>姓名</th>\n      <th>起始日期</th>\n      <th>截止日期</th>\n      <th>航线</th>\n      <th>基地</th>\n      <th>天数</th>\n      <th>航线2</th>\n    </tr>\n    <tr>\n      <th>辅助列3</th>\n      <th></th>\n      <th></th>\n      <th></th>\n      <th></th>\n      <th></th>\n      <th></th>\n      <th></th>\n      <th></th>\n    </tr>\n  </thead>\n  <tbody>\n    <tr>\n      <th>1</th>\n      <td>0000032157</td>\n      <td>樊雪</td>\n      <td>2022-01-28</td>\n      <td>2022-01-28</td>\n      <td>天府-库尔勒,库尔勒-天府</td>\n      <td>天府</td>\n      <td>1</td>\n      <td>天府-库尔勒</td>\n    </tr>\n    <tr>\n      <th>2</th>\n      <td>0000032157</td>\n      <td>樊雪</td>\n      <td>2022-02-08</td>\n      <td>2022-02-08</td>\n      <td>天府-天津</td>\n      <td>天府</td>\n      <td>1</td>\n      <td>天府-天津</td>\n    </tr>\n    <tr>\n      <th>3</th>\n      <td>0000032157</td>\n      <td>樊雪</td>\n      <td>2022-02-20</td>\n      <td>2022-02-20</td>\n      <td>成都-北京,北京-成都</td>\n      <td>成都</td>\n      <td>1</td>\n      <td>成都-北京</td>\n    </tr>\n    <tr>\n      <th>4</th>\n      <td>0000032157</td>\n      <td>樊雪</td>\n      <td>2022-03-03</td>\n      <td>2022-03-03</td>\n      <td>成都-拉萨,拉萨-大兴,大兴-北京,北京-成都</td>\n      <td>成都</td>\n      <td>1</td>\n      <td>成都-拉萨-大兴-北京</td>\n    </tr>\n    <tr>\n      <th>5</th>\n      <td>0000032157</td>\n      <td>樊雪</td>\n      <td>2022-03-12</td>\n      <td>2022-03-12</td>\n      <td>成都-北京,北京-成都</td>\n      <td>成都</td>\n      <td>1</td>\n      <td>成都-北京</td>\n    </tr>\n    <tr>\n      <th>...</th>\n      <td>...</td>\n      <td>...</td>\n      <td>...</td>\n      <td>...</td>\n      <td>...</td>\n      <td>...</td>\n      <td>...</td>\n      <td>...</td>\n    </tr>\n    <tr>\n      <th>282</th>\n      <td>0000030981</td>\n      <td>王翾</td>\n      <td>2022-02-17</td>\n      <td>2022-02-17</td>\n      <td>成都-宁波,宁波-成都</td>\n      <td>成都</td>\n      <td>1</td>\n      <td>成都-宁波</td>\n    </tr>\n    <tr>\n      <th>283</th>\n      <td>0000030981</td>\n      <td>王翾</td>\n      <td>2022-03-03</td>\n      <td>2022-03-03</td>\n      <td>成都-乌鲁木齐,乌鲁木齐-成都</td>\n      <td>成都</td>\n      <td>1</td>\n      <td>成都-乌鲁木齐</td>\n    </tr>\n    <tr>\n      <th>284</th>\n      <td>0000030981</td>\n      <td>王翾</td>\n      <td>2022-03-04</td>\n      <td>2022-03-04</td>\n      <td>成都-沈阳,沈阳-成都</td>\n      <td>成都</td>\n      <td>1</td>\n      <td>成都-沈阳</td>\n    </tr>\n    <tr>\n      <th>285</th>\n      <td>0000030981</td>\n      <td>王翾</td>\n      <td>2022-03-08</td>\n      <td>2022-03-08</td>\n      <td>成都-宁波,宁波-成都</td>\n      <td>成都</td>\n      <td>1</td>\n      <td>成都-宁波</td>\n    </tr>\n    <tr>\n      <th>286</th>\n      <td>0000030981</td>\n      <td>王翾</td>\n      <td>2022-03-24</td>\n      <td>2022-03-24</td>\n      <td>成都-成都</td>\n      <td>成都</td>\n      <td>1</td>\n      <td>成都备份</td>\n    </tr>\n  </tbody>\n</table>\n<p>230 rows × 8 columns</p>\n</div>"
     },
     "execution_count": 101,
     "metadata": {},
     "output_type": "execute_result"
    }
   ],
   "source": [
    "def flight_change(x):\n",
    "    if x=='成都-成都':\n",
    "        return '成都备份'\n",
    "    elif x=='天府-天府':\n",
    "        return  '天府备份'\n",
    "    else:\n",
    "        for i in x.split(\",\"):\n",
    "            i_list = i.split(\"-\")\n",
    "            if i_list[0] == i_list[1]:\n",
    "                return  i_list[1]+'值班'\n",
    "        temp = re.split(\"[,-]\",x)\n",
    "        return \"-\".join(sorted(set(temp),key=temp.index))\n",
    "\n",
    "\n",
    "df['航线2']=df['航线'].map(flight_change)\n",
    "df"
   ],
   "metadata": {
    "collapsed": false,
    "pycharm": {
     "name": "#%%\n"
    }
   }
  },
  {
   "cell_type": "code",
   "execution_count": null,
   "outputs": [],
   "source": [],
   "metadata": {
    "collapsed": false,
    "pycharm": {
     "name": "#%%\n"
    }
   }
  }
 ],
 "metadata": {
  "kernelspec": {
   "display_name": "Python 3",
   "language": "python",
   "name": "python3"
  },
  "language_info": {
   "codemirror_mode": {
    "name": "ipython",
    "version": 3
   },
   "file_extension": ".py",
   "mimetype": "text/x-python",
   "name": "python",
   "nbconvert_exporter": "python",
   "pygments_lexer": "ipython3",
   "version": "3.10.2"
  }
 },
 "nbformat": 4,
 "nbformat_minor": 0
}